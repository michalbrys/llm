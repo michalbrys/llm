{
  "nbformat": 4,
  "nbformat_minor": 0,
  "metadata": {
    "colab": {
      "provenance": [],
      "machine_shape": "hm"
    },
    "kernelspec": {
      "name": "python3",
      "display_name": "Python 3"
    },
    "language_info": {
      "name": "python"
    }
  },
  "cells": [
    {
      "cell_type": "code",
      "source": [
        "# Install gpt4all\n",
        "!pip install gpt4all"
      ],
      "metadata": {
        "colab": {
          "base_uri": "https://localhost:8080/"
        },
        "id": "oRBS32TKEqxO",
        "outputId": "35f9d9ed-b67a-4786-cc40-bf46b3603cbe"
      },
      "execution_count": 1,
      "outputs": [
        {
          "output_type": "stream",
          "name": "stdout",
          "text": [
            "Collecting gpt4all\n",
            "  Downloading gpt4all-1.0.12-py3-none-manylinux1_x86_64.whl (6.0 MB)\n",
            "\u001b[2K     \u001b[90m━━━━━━━━━━━━━━━━━━━━━━━━━━━━━━━━━━━━━━━━\u001b[0m \u001b[32m6.0/6.0 MB\u001b[0m \u001b[31m22.2 MB/s\u001b[0m eta \u001b[36m0:00:00\u001b[0m\n",
            "\u001b[?25hRequirement already satisfied: requests in /usr/local/lib/python3.10/dist-packages (from gpt4all) (2.31.0)\n",
            "Requirement already satisfied: tqdm in /usr/local/lib/python3.10/dist-packages (from gpt4all) (4.66.1)\n",
            "Requirement already satisfied: charset-normalizer<4,>=2 in /usr/local/lib/python3.10/dist-packages (from requests->gpt4all) (3.2.0)\n",
            "Requirement already satisfied: idna<4,>=2.5 in /usr/local/lib/python3.10/dist-packages (from requests->gpt4all) (3.4)\n",
            "Requirement already satisfied: urllib3<3,>=1.21.1 in /usr/local/lib/python3.10/dist-packages (from requests->gpt4all) (2.0.4)\n",
            "Requirement already satisfied: certifi>=2017.4.17 in /usr/local/lib/python3.10/dist-packages (from requests->gpt4all) (2023.7.22)\n",
            "Installing collected packages: gpt4all\n",
            "Successfully installed gpt4all-1.0.12\n"
          ]
        }
      ]
    },
    {
      "cell_type": "code",
      "source": [
        "# Import GPT4all\n",
        "import gpt4all\n",
        "import requests\n",
        "\n",
        "# list the available models\n",
        "models = requests.get(\"https://gpt4all.io/models/models.json\").json()"
      ],
      "metadata": {
        "id": "x_FagCSYxY4T"
      },
      "execution_count": 2,
      "outputs": []
    },
    {
      "cell_type": "code",
      "source": [
        "# Print the models list\n",
        "# Note: check the model license in the model description\n",
        "print(\"name \\t| filename \\t| filesize (GB)\\t| ramrequired (GB)\\t| parameters\")\n",
        "\n",
        "for m in models:\n",
        "  print(m['name'],\"\\t|\",m['filename'],\"\\t|\",round(int(m['filesize'])/1e+9,2),\"\\t|\",m['ramrequired'],\"\\t|\",m['parameters'])"
      ],
      "metadata": {
        "colab": {
          "base_uri": "https://localhost:8080/"
        },
        "id": "yM91meN6mUDU",
        "outputId": "bda2a38d-83a6-4140-b463-870677c8f073"
      },
      "execution_count": 3,
      "outputs": [
        {
          "output_type": "stream",
          "name": "stdout",
          "text": [
            "name \t| filename \t| filesize (GB)\t| ramrequired (GB)\t| parameters\n",
            "Wizard v1.1 \t| wizardlm-13b-v1.1-superhot-8k.ggmlv3.q4_0.bin \t| 7.32 \t| 16 \t| 13 billion\n",
            "GPT4All Falcon \t| ggml-model-gpt4all-falcon-q4_0.bin \t| 4.06 \t| 8 \t| 7 billion\n",
            "Hermes \t| nous-hermes-13b.ggmlv3.q4_0.bin \t| 8.14 \t| 16 \t| 13 billion\n",
            "Snoozy \t| GPT4All-13B-snoozy.ggmlv3.q4_0.bin \t| 8.14 \t| 16 \t| 13 billion\n",
            "Mini Orca \t| orca-mini-7b.ggmlv3.q4_0.bin \t| 3.79 \t| 8 \t| 7 billion\n",
            "Mini Orca (Small) \t| orca-mini-3b.ggmlv3.q4_0.bin \t| 1.93 \t| 4 \t| 3 billion\n",
            "Mini Orca (Large) \t| orca-mini-13b.ggmlv3.q4_0.bin \t| 7.32 \t| 16 \t| 13 billion\n",
            "Wizard Uncensored \t| wizardLM-13B-Uncensored.ggmlv3.q4_0.bin \t| 8.14 \t| 16 \t| 13 billion\n",
            "Replit \t| ggml-replit-code-v1-3b.bin \t| 5.2 \t| 4 \t| 3 billion\n",
            "Bert \t| ggml-all-MiniLM-L6-v2-f16.bin \t| 0.05 \t| 1 \t| 1 million\n",
            "Starcoder (Small) \t| starcoderbase-3b-ggml.bin \t| 7.5 \t| 8 \t| 3 billion\n",
            "Starcoder \t| starcoderbase-7b-ggml.bin \t| 17.86 \t| 16 \t| 7 billion\n",
            "Llama-2-7B Chat \t| llama-2-7b-chat.ggmlv3.q4_0.bin \t| 3.79 \t| 8 \t| 7 billion\n"
          ]
        }
      ]
    },
    {
      "cell_type": "code",
      "source": [
        "# Build the prompt\n",
        "# (syntetic data for the workshop)\n",
        "\n",
        "p = \"\"\"\n",
        "Here is the dataset with the historical e-commerce company revenue in USD by year in a markdown table:\n",
        "```\n",
        "|Year|Revenue|\n",
        "|---|---|\n",
        "|2001|15930.00$|\n",
        "|2002|12766.00$|\n",
        "|2003|21893.00$|\n",
        "|2004|24922.00$|\n",
        "|2005|358595.00$|\n",
        "|2006|482503.00$|\n",
        "|2007|541379.00$|\n",
        "|2008|437635.00$|\n",
        "|2009|777742.00$|\n",
        "|2010|1240346.00$|\n",
        "```\n",
        "Please write an executive summary of this dataset.\n",
        "\"\"\"\n",
        "\n"
      ],
      "metadata": {
        "id": "TyJAqVgLEwkL"
      },
      "execution_count": 4,
      "outputs": []
    },
    {
      "cell_type": "code",
      "source": [
        "# Model 1: llama2 / 7 billion parameters\n",
        "\n",
        "model = gpt4all.GPT4All(\"llama-2-7b-chat.ggmlv3.q4_0.bin\")\n",
        "\n",
        "for token in model.generate(p):\n",
        "    print(token, end='', flush=True)"
      ],
      "metadata": {
        "colab": {
          "base_uri": "https://localhost:8080/"
        },
        "id": "0nG-7r8RFQ4-",
        "outputId": "36aea5fa-0f4d-4b51-8494-f414005cf866"
      },
      "execution_count": 5,
      "outputs": [
        {
          "output_type": "stream",
          "name": "stderr",
          "text": [
            "100%|██████████| 3.79G/3.79G [00:10<00:00, 359MiB/s]\n"
          ]
        },
        {
          "output_type": "stream",
          "name": "stdout",
          "text": [
            "Model downloaded at:  /root/.cache/gpt4all/llama-2-7b-chat.ggmlv3.q4_0.bin\n",
            "\n",
            "Answer: Based on the provided e-commerce company revenue data, here is a brief executive summary:\n",
            "\n",
            "The historical revenue of the e-commerce company has been steadily increasing over the years, with a significant jump in 2005 and another smaller increase in 2010. The highest revenue recorded was $777742 in 2009, while the lowest was $15930 in 2001.\n",
            "\n",
            "The trend suggests that the e-commerce company has been experiencing steady growth over the years, with a few notable spikes in revenue. However, it is important to note that this data only represents the revenue of the e-commerce company and does not provide information on other aspects such as profitability or market share.\n",
            "\n",
            "Future projections or predictions based on this dataset would be speculative at best, but could include trend analysis and forecasting using time"
          ]
        }
      ]
    },
    {
      "cell_type": "code",
      "source": [
        "# Model 2: falcon / 7 billion parameters\n",
        "\n",
        "model = gpt4all.GPT4All(\"ggml-model-gpt4all-falcon-q4_0.bin\")\n",
        "\n",
        "for token in model.generate(p):\n",
        "    print(token, end='', flush=True)"
      ],
      "metadata": {
        "colab": {
          "base_uri": "https://localhost:8080/"
        },
        "id": "7-WAXCwSd0c5",
        "outputId": "584b2591-66f6-4cf5-d297-8f2cf79abfbd"
      },
      "execution_count": 6,
      "outputs": [
        {
          "output_type": "stream",
          "name": "stderr",
          "text": [
            "100%|██████████| 4.06G/4.06G [00:09<00:00, 414MiB/s]\n"
          ]
        },
        {
          "output_type": "stream",
          "name": "stdout",
          "text": [
            "Model downloaded at:  /root/.cache/gpt4all/ggml-model-gpt4all-falcon-q4_0.bin\n",
            "Executive Summary:\n",
            "\n",
            "This dataset contains historical e-commerce company revenue in USD by year from 2001 to 2020. The data is presented in a markdown table format with columns for the year, revenue, and units sold.\n",
            "\n",
            "The table shows that the industry experienced significant growth over the years, with the highest revenue of $5413.79 million in 2017. However, the industry faced some setbacks during the pandemic, with a decrease in revenue in 2020 due to the COVID-19 outbreak.\n",
            "\n",
            "Overall, this dataset provides valuable insights into the historical trends and fluctuations in e-commerce company revenue over time. It can be used for various purposes such as market analysis, financial planning, and strategic decision making."
          ]
        }
      ]
    },
    {
      "cell_type": "code",
      "source": [
        "# Model 3: orca / 7 billion parameters\n",
        "\n",
        "model = gpt4all.GPT4All(\"orca-mini-7b.ggmlv3.q4_0.bin\")\n",
        "\n",
        "for token in model.generate(p):\n",
        "    print(token, end='', flush=True)"
      ],
      "metadata": {
        "id": "5_vH_YiwHANN",
        "colab": {
          "base_uri": "https://localhost:8080/"
        },
        "outputId": "9dcdf3e0-e03d-4b82-e15a-0b7a5f55248e"
      },
      "execution_count": 7,
      "outputs": [
        {
          "output_type": "stream",
          "name": "stderr",
          "text": [
            "100%|██████████| 3.79G/3.79G [00:12<00:00, 296MiB/s]\n"
          ]
        },
        {
          "output_type": "stream",
          "name": "stdout",
          "text": [
            "Model downloaded at:  /root/.cache/gpt4all/orca-mini-7b.ggmlv3.q4_0.bin\n",
            "\n",
            "The dataset contains historical revenue data for e-commerce companies from 2001 to 2010 in USD by year. The table shows the revenue and corresponding years for each company. The revenue increased significantly over time, with a high of $777,742 in 2009 and a low of $15,930 in 2001."
          ]
        }
      ]
    },
    {
      "cell_type": "code",
      "source": [
        "# Model 4: orca / 3 billion parameters\n",
        "\n",
        "model = gpt4all.GPT4All(\"orca-mini-3b.ggmlv3.q4_0.bin\")\n",
        "\n",
        "for token in model.generate(p):\n",
        "    print(token, end='', flush=True)"
      ],
      "metadata": {
        "colab": {
          "base_uri": "https://localhost:8080/"
        },
        "id": "xsPB1AIOrkwx",
        "outputId": "a9bb134d-ce82-4552-e87c-55153102ddb3"
      },
      "execution_count": 8,
      "outputs": [
        {
          "output_type": "stream",
          "name": "stderr",
          "text": [
            "100%|██████████| 1.93G/1.93G [00:09<00:00, 197MiB/s]\n"
          ]
        },
        {
          "output_type": "stream",
          "name": "stdout",
          "text": [
            "Model downloaded at:  /root/.cache/gpt4all/orca-mini-3b.ggmlv3.q4_0.bin\n",
            "\n",
            "Executive Summary: This dataset contains historical revenue data for e-commerce companies from 2001 to 2010 in USD. The data can be used for analysis and forecasting of the industry trends over time."
          ]
        }
      ]
    },
    {
      "cell_type": "code",
      "source": [
        "# Model 5: orca / 13 billion parameters\n",
        "\n",
        "model = gpt4all.GPT4All(\"orca-mini-13b.ggmlv3.q4_0.bin\")\n",
        "\n",
        "for token in model.generate(p):\n",
        "    print(token, end='', flush=True)"
      ],
      "metadata": {
        "colab": {
          "base_uri": "https://localhost:8080/"
        },
        "id": "av5SG1HvSxuA",
        "outputId": "6b2171f9-242f-482e-f056-416365621050"
      },
      "execution_count": 9,
      "outputs": [
        {
          "output_type": "stream",
          "name": "stderr",
          "text": [
            "100%|██████████| 7.32G/7.32G [00:23<00:00, 312MiB/s]\n"
          ]
        },
        {
          "output_type": "stream",
          "name": "stdout",
          "text": [
            "Model downloaded at:  /root/.cache/gpt4all/orca-mini-13b.ggmlv3.q4_0.bin\n",
            "\n",
            "The dataset shows the historical revenue of an e-commerce company from 2001 to 2010 in USD. The company experienced a significant increase in revenue over the years, with a compound annual growth rate of 36.4%. The revenue peaked in 2010 at around $124 million and then declined slightly in the following years."
          ]
        }
      ]
    },
    {
      "cell_type": "code",
      "source": [
        "# Bonus: generate a code for chart\n",
        "\n",
        "p_chart = \"\"\"\n",
        "Here is the dataset with the historical e-commerce company revenue in USD by year in a markdown table:\n",
        "```\n",
        "|Year|Revenue|\n",
        "|---|---|\n",
        "|2001|15930.00$|\n",
        "|2002|12766.00$|\n",
        "|2003|21893.00$|\n",
        "|2004|24922.00$|\n",
        "|2005|358595.00$|\n",
        "|2006|482503.00$|\n",
        "|2007|541379.00$|\n",
        "|2008|437635.00$|\n",
        "|2009|777742.00$|\n",
        "|2010|1240346.00$|\n",
        "```\n",
        "Please write the Python code to visualize the table in the linear plot.\n",
        "\"\"\"\n",
        "\n",
        "# Model 2: Falcon / 7 billion parameters\n",
        "\n",
        "model = gpt4all.GPT4All(\"ggml-model-gpt4all-falcon-q4_0.bin\")\n",
        "\n",
        "for token in model.generate(p_chart):\n",
        "    print(token, end='', flush=True)"
      ],
      "metadata": {
        "colab": {
          "base_uri": "https://localhost:8080/"
        },
        "id": "HYxy54nmUJ2P",
        "outputId": "ba105358-554e-4667-be01-b1291bb0fc97"
      },
      "execution_count": 12,
      "outputs": [
        {
          "output_type": "stream",
          "name": "stdout",
          "text": [
            "Found model file at  /root/.cache/gpt4all/ggml-model-gpt4all-falcon-q4_0.bin\n",
            "To create a line chart with the data points from the table, you can use the `matplotlib` library in Python. Here's an example code that will create a line chart with the data points from the table:\n",
            "```python\n",
            "import pandas as pd\n",
            "import matplotlib.pyplot as plt\n",
            "\n",
            "# Load the data into a pandas DataFrame\n",
            "df = pd.read_csv(\"e-commerce_revenue.csv\")\n",
            "\n",
            "# Convert the column names to uppercase for plotting\n",
            "df.columns = df.columns.map(lambda x: x.upper())\n",
            "\n",
            "# Plot the line chart\n",
            "plt.plot(df[\"Year\"], df[\"Revuenue\"])\n",
            "plt.xlabel(\"Year\")\n",
            "plt.ylabel(\"Revenue\")\n",
            "plt.show()\n",
            "```\n",
            "This code will create a line chart with the data points from the table, plotting the revenue on the y-axis"
          ]
        }
      ]
    },
    {
      "cell_type": "code",
      "source": [
        "import pandas as pd\n",
        "import matplotlib.pyplot as plt\n",
        "\n",
        "# Load the data into a pandas DataFrame\n",
        "df = pd.read_csv(\"e-commerce_revenue.csv\")\n",
        "\n",
        "# Convert the column names to uppercase for plotting\n",
        "df.columns = df.columns.map(lambda x: x.upper())\n",
        "\n",
        "# Plot the line chart\n",
        "plt.plot(df[\"YEAR\"], df[\"REVENUE\"])\n",
        "plt.xlabel(\"YEAR\")\n",
        "plt.ylabel(\"REVENUE\")\n",
        "plt.show()"
      ],
      "metadata": {
        "colab": {
          "base_uri": "https://localhost:8080/",
          "height": 449
        },
        "id": "LMgomvkiX63X",
        "outputId": "7c92b695-f422-4116-fec8-eb3fd37821cd"
      },
      "execution_count": 15,
      "outputs": [
        {
          "output_type": "display_data",
          "data": {
            "text/plain": [
              "<Figure size 640x480 with 1 Axes>"
            ],
            "image/png": "[encoded data removed]"
          },
          "metadata": {}
        }
      ]
    },
    {
      "cell_type": "code",
      "source": [],
      "metadata": {
        "id": "rkgxIF7nbOfr"
      },
      "execution_count": null,
      "outputs": []
    }
  ]
}